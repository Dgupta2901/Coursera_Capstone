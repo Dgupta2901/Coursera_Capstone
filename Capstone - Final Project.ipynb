{
    "nbformat_minor": 1, 
    "cells": [
        {
            "source": "# Introduction", 
            "cell_type": "markdown", 
            "metadata": {
                "collapsed": true
            }
        }, 
        {
            "source": "###### We want to explore which is the best suburb to live in Melbourne, priority is best primary public school in the area and followed by other facilities in the area. List top 10 suburbs with the list of all the facilities and school options", 
            "cell_type": "markdown", 
            "metadata": {}
        }, 
        {
            "source": "# Data Set", 
            "cell_type": "markdown", 
            "metadata": {}
        }, 
        {
            "source": "###### Data Set can be obtained from the following sites\n\n1> List of Melbourne Suburbs and Postcodes - https://en.wikipedia.org/wiki/List_of_Melbourne_suburbs  \n2> List of Top Primary Schools in Melbourne - https://bettereducation.com.au/school/Primary/vic/melbourne_top_primary_schools.aspx  \n3> List of Facilities from Foursquare", 
            "cell_type": "markdown", 
            "metadata": {}
        }, 
        {
            "execution_count": null, 
            "cell_type": "code", 
            "metadata": {}, 
            "outputs": [], 
            "source": ""
        }
    ], 
    "metadata": {
        "kernelspec": {
            "display_name": "Python 3.5", 
            "name": "python3", 
            "language": "python"
        }, 
        "language_info": {
            "mimetype": "text/x-python", 
            "nbconvert_exporter": "python", 
            "version": "3.5.5", 
            "name": "python", 
            "file_extension": ".py", 
            "pygments_lexer": "ipython3", 
            "codemirror_mode": {
                "version": 3, 
                "name": "ipython"
            }
        }
    }, 
    "nbformat": 4
}