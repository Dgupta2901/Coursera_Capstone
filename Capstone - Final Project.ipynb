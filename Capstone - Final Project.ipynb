{
    "nbformat_minor": 1, 
    "cells": [
        {
            "source": "# Introduction", 
            "cell_type": "markdown", 
            "metadata": {
                "collapsed": true
            }
        }, 
        {
            "source": "## Business Problem", 
            "cell_type": "markdown", 
            "metadata": {}
        }, 
        {
            "source": "Melbourne has been voted the most livable city in the World for seven years in a row, which attract a lot of families or individuals to migrate to Melbourne. The question / problem comes in deciding where to step foot in Melbourne, which suburb to live in. For many young families the priority is to provide best possible education to their children at an affordable price. In addition to good schools, the presence of other basic amenities is also important ( Transport, Hospitals, Resturants and others)\nIn this project the objective is to select top 10 Public Primary and Secondary Schools. List all the amenities for the corresponding suburbs where the schools are located  with the median rent in the area so that the user be able to make a decision of selecting a suburb to settle down.", 
            "cell_type": "markdown", 
            "metadata": {}
        }, 
        {
            "source": "## Data Set", 
            "cell_type": "markdown", 
            "metadata": {}
        }, 
        {
            "source": "In order to carry out the investigation and determining the most suitable Suburb, we need access to certain information. This information can be retiereived from the Data available at various sites and consolidated and evaluated to reach to the conclusion\n\nData Set can be obtained from the following sites\n\n1> List of Melbourne Suburbs and Postcodes - https://en.wikipedia.org/wiki/List_of_Melbourne_suburbs  \n2> List of Top Public School in Melbourne - https://bettereducation.com.au/school  \n3> List of Facilities from Foursquare  \n4> Housing Information from Real Estate sites", 
            "cell_type": "markdown", 
            "metadata": {}
        }, 
        {
            "execution_count": null, 
            "cell_type": "code", 
            "metadata": {}, 
            "outputs": [], 
            "source": ""
        }
    ], 
    "metadata": {
        "kernelspec": {
            "display_name": "Python 3.5", 
            "name": "python3", 
            "language": "python"
        }, 
        "language_info": {
            "mimetype": "text/x-python", 
            "nbconvert_exporter": "python", 
            "version": "3.5.5", 
            "name": "python", 
            "file_extension": ".py", 
            "pygments_lexer": "ipython3", 
            "codemirror_mode": {
                "version": 3, 
                "name": "ipython"
            }
        }
    }, 
    "nbformat": 4
}